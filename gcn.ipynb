{
  "nbformat": 4,
  "nbformat_minor": 0,
  "metadata": {
    "colab": {
      "provenance": [],
      "authorship_tag": "ABX9TyOY5uyNu/kPPZYeSQ6ExbqZ",
      "include_colab_link": true
    },
    "kernelspec": {
      "name": "python3",
      "display_name": "Python 3"
    },
    "language_info": {
      "name": "python"
    }
  },
  "cells": [
    {
      "cell_type": "markdown",
      "metadata": {
        "id": "view-in-github",
        "colab_type": "text"
      },
      "source": [
        "<a href=\"https://colab.research.google.com/github/NoujoudNader/MatrixMultiplication/blob/main/gcn.ipynb\" target=\"_parent\"><img src=\"https://colab.research.google.com/assets/colab-badge.svg\" alt=\"Open In Colab\"/></a>"
      ]
    },
    {
      "cell_type": "code",
      "execution_count": null,
      "metadata": {
        "colab": {
          "base_uri": "https://localhost:8080/",
          "height": 382
        },
        "id": "GRvSYj402en8",
        "outputId": "65a73bb4-a492-4e3b-9f94-1046f555cb03"
      },
      "outputs": [
        {
          "output_type": "error",
          "ename": "InvalidArgumentError",
          "evalue": "ignored",
          "traceback": [
            "\u001b[0;31m---------------------------------------------------------------------------\u001b[0m",
            "\u001b[0;31mInvalidArgumentError\u001b[0m                      Traceback (most recent call last)",
            "\u001b[0;32m<ipython-input-1-5a2fdeb716e6>\u001b[0m in \u001b[0;36m<cell line: 46>\u001b[0;34m()\u001b[0m\n\u001b[1;32m     47\u001b[0m     \u001b[0;32mwith\u001b[0m \u001b[0mtf\u001b[0m\u001b[0;34m.\u001b[0m\u001b[0mGradientTape\u001b[0m\u001b[0;34m(\u001b[0m\u001b[0;34m)\u001b[0m \u001b[0;32mas\u001b[0m \u001b[0mtape\u001b[0m\u001b[0;34m:\u001b[0m\u001b[0;34m\u001b[0m\u001b[0;34m\u001b[0m\u001b[0m\n\u001b[1;32m     48\u001b[0m         \u001b[0mpred_edges\u001b[0m \u001b[0;34m=\u001b[0m \u001b[0mmodel\u001b[0m\u001b[0;34m(\u001b[0m\u001b[0mnode_features\u001b[0m\u001b[0;34m)\u001b[0m\u001b[0;34m\u001b[0m\u001b[0;34m\u001b[0m\u001b[0m\n\u001b[0;32m---> 49\u001b[0;31m         \u001b[0mpred_output_edges\u001b[0m \u001b[0;34m=\u001b[0m \u001b[0mtf\u001b[0m\u001b[0;34m.\u001b[0m\u001b[0mgather\u001b[0m\u001b[0;34m(\u001b[0m\u001b[0mpred_edges\u001b[0m\u001b[0;34m,\u001b[0m \u001b[0minput_edge_indices\u001b[0m\u001b[0;34m[\u001b[0m\u001b[0;34m:\u001b[0m\u001b[0;34m,\u001b[0m \u001b[0;36m0\u001b[0m\u001b[0;34m]\u001b[0m\u001b[0;34m,\u001b[0m \u001b[0maxis\u001b[0m\u001b[0;34m=\u001b[0m\u001b[0;36m1\u001b[0m\u001b[0;34m)\u001b[0m\u001b[0;34m\u001b[0m\u001b[0;34m\u001b[0m\u001b[0m\n\u001b[0m\u001b[1;32m     50\u001b[0m         \u001b[0mloss\u001b[0m \u001b[0;34m=\u001b[0m \u001b[0mloss_func\u001b[0m\u001b[0;34m(\u001b[0m\u001b[0minput_edge_weights\u001b[0m\u001b[0;34m,\u001b[0m \u001b[0mpred_output_edges\u001b[0m\u001b[0;34m)\u001b[0m\u001b[0;34m\u001b[0m\u001b[0;34m\u001b[0m\u001b[0m\n\u001b[1;32m     51\u001b[0m     \u001b[0mgradients\u001b[0m \u001b[0;34m=\u001b[0m \u001b[0mtape\u001b[0m\u001b[0;34m.\u001b[0m\u001b[0mgradient\u001b[0m\u001b[0;34m(\u001b[0m\u001b[0mloss\u001b[0m\u001b[0;34m,\u001b[0m \u001b[0mmodel\u001b[0m\u001b[0;34m.\u001b[0m\u001b[0mtrainable_variables\u001b[0m\u001b[0;34m)\u001b[0m\u001b[0;34m\u001b[0m\u001b[0;34m\u001b[0m\u001b[0m\n",
            "\u001b[0;32m/usr/local/lib/python3.10/dist-packages/tensorflow/python/util/traceback_utils.py\u001b[0m in \u001b[0;36merror_handler\u001b[0;34m(*args, **kwargs)\u001b[0m\n\u001b[1;32m    151\u001b[0m     \u001b[0;32mexcept\u001b[0m \u001b[0mException\u001b[0m \u001b[0;32mas\u001b[0m \u001b[0me\u001b[0m\u001b[0;34m:\u001b[0m\u001b[0;34m\u001b[0m\u001b[0;34m\u001b[0m\u001b[0m\n\u001b[1;32m    152\u001b[0m       \u001b[0mfiltered_tb\u001b[0m \u001b[0;34m=\u001b[0m \u001b[0m_process_traceback_frames\u001b[0m\u001b[0;34m(\u001b[0m\u001b[0me\u001b[0m\u001b[0;34m.\u001b[0m\u001b[0m__traceback__\u001b[0m\u001b[0;34m)\u001b[0m\u001b[0;34m\u001b[0m\u001b[0;34m\u001b[0m\u001b[0m\n\u001b[0;32m--> 153\u001b[0;31m       \u001b[0;32mraise\u001b[0m \u001b[0me\u001b[0m\u001b[0;34m.\u001b[0m\u001b[0mwith_traceback\u001b[0m\u001b[0;34m(\u001b[0m\u001b[0mfiltered_tb\u001b[0m\u001b[0;34m)\u001b[0m \u001b[0;32mfrom\u001b[0m \u001b[0;32mNone\u001b[0m\u001b[0;34m\u001b[0m\u001b[0;34m\u001b[0m\u001b[0m\n\u001b[0m\u001b[1;32m    154\u001b[0m     \u001b[0;32mfinally\u001b[0m\u001b[0;34m:\u001b[0m\u001b[0;34m\u001b[0m\u001b[0;34m\u001b[0m\u001b[0m\n\u001b[1;32m    155\u001b[0m       \u001b[0;32mdel\u001b[0m \u001b[0mfiltered_tb\u001b[0m\u001b[0;34m\u001b[0m\u001b[0;34m\u001b[0m\u001b[0m\n",
            "\u001b[0;32m/usr/local/lib/python3.10/dist-packages/tensorflow/python/framework/ops.py\u001b[0m in \u001b[0;36mraise_from_not_ok_status\u001b[0;34m(e, name)\u001b[0m\n\u001b[1;32m   7260\u001b[0m \u001b[0;32mdef\u001b[0m \u001b[0mraise_from_not_ok_status\u001b[0m\u001b[0;34m(\u001b[0m\u001b[0me\u001b[0m\u001b[0;34m,\u001b[0m \u001b[0mname\u001b[0m\u001b[0;34m)\u001b[0m\u001b[0;34m:\u001b[0m\u001b[0;34m\u001b[0m\u001b[0;34m\u001b[0m\u001b[0m\n\u001b[1;32m   7261\u001b[0m   \u001b[0me\u001b[0m\u001b[0;34m.\u001b[0m\u001b[0mmessage\u001b[0m \u001b[0;34m+=\u001b[0m \u001b[0;34m(\u001b[0m\u001b[0;34m\" name: \"\u001b[0m \u001b[0;34m+\u001b[0m \u001b[0mname\u001b[0m \u001b[0;32mif\u001b[0m \u001b[0mname\u001b[0m \u001b[0;32mis\u001b[0m \u001b[0;32mnot\u001b[0m \u001b[0;32mNone\u001b[0m \u001b[0;32melse\u001b[0m \u001b[0;34m\"\"\u001b[0m\u001b[0;34m)\u001b[0m\u001b[0;34m\u001b[0m\u001b[0;34m\u001b[0m\u001b[0m\n\u001b[0;32m-> 7262\u001b[0;31m   \u001b[0;32mraise\u001b[0m \u001b[0mcore\u001b[0m\u001b[0;34m.\u001b[0m\u001b[0m_status_to_exception\u001b[0m\u001b[0;34m(\u001b[0m\u001b[0me\u001b[0m\u001b[0;34m)\u001b[0m \u001b[0;32mfrom\u001b[0m \u001b[0;32mNone\u001b[0m  \u001b[0;31m# pylint: disable=protected-access\u001b[0m\u001b[0;34m\u001b[0m\u001b[0;34m\u001b[0m\u001b[0m\n\u001b[0m\u001b[1;32m   7263\u001b[0m \u001b[0;34m\u001b[0m\u001b[0m\n\u001b[1;32m   7264\u001b[0m \u001b[0;34m\u001b[0m\u001b[0m\n",
            "\u001b[0;31mInvalidArgumentError\u001b[0m: {{function_node __wrapped__GatherV2_device_/job:localhost/replica:0/task:0/device:CPU:0}} indices[1] = 1 is not in [0, 1) [Op:GatherV2]"
          ]
        }
      ],
      "source": [
        "import numpy as np\n",
        "import tensorflow as tf\n",
        "from tensorflow.keras import layers\n",
        "import networkx as nx\n",
        "import matplotlib.pyplot as plt\n",
        "\n",
        "# Define the Graph Generation Model\n",
        "class GraphGenerationModel(tf.keras.Model):\n",
        "    def __init__(self, input_dim, hidden_dim, output_dim):\n",
        "        super(GraphGenerationModel, self).__init__()\n",
        "        self.gcn = tf.keras.Sequential([\n",
        "            layers.Dense(hidden_dim, activation='relu'),\n",
        "            layers.Dense(hidden_dim, activation='relu'),\n",
        "            layers.Dense(output_dim)\n",
        "        ])\n",
        "\n",
        "    def call(self, inputs):\n",
        "        return self.gcn(inputs)\n",
        "\n",
        "\n",
        "# Define the nodes and edges\n",
        "nodes = ['A', 'B', 'C', 'D', 'E', 'F']\n",
        "edges = [('A', 'B', 5), ('B', 'C', 2), ('B', 'D', 3), ('C', 'E', 4), ('C', 'F', 1)]\n",
        "\n",
        "# Create a mapping from nodes to indices\n",
        "node_indices = {node: i for i, node in enumerate(nodes)}\n",
        "\n",
        "# Convert edges and node features to numerical representations\n",
        "input_edges = edges[:3]\n",
        "\n",
        "input_edge_indices = np.array([(node_indices[src], node_indices[dst]) for src, dst, _ in input_edges])\n",
        "input_edge_weights = np.array([weight for _, _, weight in input_edges])\n",
        "\n",
        "# Filter the nodes to include only those present in the input edges\n",
        "filtered_nodes = list(set([src for src, _, _ in input_edges] + [dst for _, dst, _ in input_edges]))\n",
        "\n",
        "# Create node features for the filtered nodes\n",
        "node_features = np.ones((len(filtered_nodes), 1))  # Example node features\n",
        "\n",
        "# Define the model and optimizer\n",
        "model = GraphGenerationModel(input_dim=1, hidden_dim=64, output_dim=1)\n",
        "optimizer = tf.keras.optimizers.Adam(learning_rate=0.01)\n",
        "loss_func = tf.keras.losses.MeanSquaredError()\n",
        "\n",
        "# Train the model\n",
        "for epoch in range(100):\n",
        "    with tf.GradientTape() as tape:\n",
        "        pred_edges = model(node_features)\n",
        "        pred_output_edges = tf.gather(pred_edges, input_edge_indices[:, 0], axis=1)\n",
        "        loss = loss_func(input_edge_weights, pred_output_edges)\n",
        "    gradients = tape.gradient(loss, model.trainable_variables)\n",
        "    optimizer.apply_gradients(zip(gradients, model.trainable_variables))\n",
        "\n",
        "    # Print loss per epoch\n",
        "    print(f\"Epoch {epoch + 1}: Loss = {loss.numpy()}\")\n",
        "\n",
        "# Generate new edges based on the trained model\n",
        "num_new_edges = 2\n",
        "new_edges = []\n",
        "for _ in range(num_new_edges):\n",
        "    pred_output_weights = model(node_features)[input_edge_indices[:, 0]]\n",
        "    max_weight_idx = tf.argmax(pred_output_weights, axis=0).numpy()\n",
        "    src, dst, _ = input_edges[max_weight_idx]\n",
        "    new_weight = pred_output_weights[max_weight_idx][0].numpy()\n",
        "    new_edge = (dst, np.random.choice(nodes), new_weight)  # Randomly select a destination node\n",
        "    new_edges.append(new_edge)\n",
        "\n",
        "# Create the complete graph with the input edges and predicted output edges\n",
        "complete_graph = input_edges + new_edges\n",
        "\n",
        "# Create a directed graph from the edges\n",
        "graph = nx.DiGraph()\n",
        "graph.add_weighted_edges_from(complete_graph)\n",
        "\n",
        "# Draw the graph as a tree\n",
        "pos = nx.nx_pydot.graphviz_layout(graph, prog='dot')\n",
        "nx.draw(graph, pos, with_labels=True, node_color='lightblue', node_size=2000, font_size=12, arrows=True)\n",
        "edge_labels = nx.get_edge_attributes(graph, 'weight')\n",
        "nx.draw_networkx_edge_labels(graph, pos, edge_labels=edge_labels, font_color='red')\n",
        "\n",
        "plt.title(\"Graph as a Tree\")\n",
        "plt.show()\n"
      ]
    },
    {
      "cell_type": "code",
      "source": [],
      "metadata": {
        "id": "CY-XRJGvBEDl"
      },
      "execution_count": null,
      "outputs": []
    }
  ]
}